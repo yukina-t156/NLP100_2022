{
 "cells": [
  {
   "cell_type": "markdown",
   "id": "f02375bb",
   "metadata": {},
   "source": [
    "# [自然言語処理100本ノック](https://nlp100.github.io/ja/)"
   ]
  },
  {
   "cell_type": "markdown",
   "id": "9fe36226",
   "metadata": {},
   "source": [
    "# 第１章：準備運動"
   ]
  },
  {
   "cell_type": "markdown",
   "id": "3034c520",
   "metadata": {},
   "source": [
    "## 00. 文字列の逆順　　\n",
    "文字列”stressed”の文字を逆に（末尾から先頭に向かって）並べた文字列を得よ．"
   ]
  },
  {
   "cell_type": "code",
   "execution_count": 1,
   "id": "491a76df",
   "metadata": {},
   "outputs": [
    {
     "name": "stdout",
     "output_type": "stream",
     "text": [
      "desserts\n"
     ]
    }
   ],
   "source": [
    "str = \"stressed\"\n",
    "\n",
    "ans = str[::-1]\n",
    "\n",
    "print(ans)"
   ]
  },
  {
   "cell_type": "markdown",
   "id": "1f35b39d",
   "metadata": {},
   "source": [
    "## 01. 「パタトクカシーー」　　\n",
    "「パタトクカシーー」という文字列の1,3,5,7文字目を取り出して連結した文字列を得よ．"
   ]
  },
  {
   "cell_type": "code",
   "execution_count": 6,
   "id": "07679930",
   "metadata": {},
   "outputs": [
    {
     "name": "stdout",
     "output_type": "stream",
     "text": [
      "パトカー\n"
     ]
    }
   ],
   "source": [
    "str = \"パタトクカシーー\"\n",
    "\n",
    "ans = ''.join([str[i] for i in range(0,len(str),2)])\n",
    "\n",
    "print(ans)"
   ]
  },
  {
   "cell_type": "markdown",
   "id": "07738619",
   "metadata": {},
   "source": [
    "## 02. 「パトカー」＋「タクシー」＝「パタトクカシーー」　　\n",
    "「パトカー」＋「タクシー」の文字を先頭から交互に連結して文字列「パタトクカシーー」を得よ"
   ]
  },
  {
   "cell_type": "code",
   "execution_count": 9,
   "id": "012b490a",
   "metadata": {},
   "outputs": [
    {
     "name": "stdout",
     "output_type": "stream",
     "text": [
      "パタトクカシーー\n"
     ]
    }
   ],
   "source": [
    "str1 = \"パトカー\"\n",
    "str2 = \"タクシー\"\n",
    "\n",
    "ans = ''.join([c1+c2 for c1, c2 in zip(str1, str2)])\n",
    "\n",
    "print(ans)"
   ]
  },
  {
   "cell_type": "markdown",
   "id": "3778af9d",
   "metadata": {},
   "source": [
    "## 03. 円周率　　\n",
    "“Now I need a drink, alcoholic of course, after the heavy lectures involving quantum mechanics.”という文を単語に分解し，各単語の（アルファベットの）文字数を先頭から出現順に並べたリストを作成せよ"
   ]
  },
  {
   "cell_type": "code",
   "execution_count": 12,
   "id": "2d37d28c",
   "metadata": {},
   "outputs": [
    {
     "name": "stdout",
     "output_type": "stream",
     "text": [
      "[3, 1, 4, 1, 5, 9, 2, 6, 5, 3, 5, 8, 9, 7, 10]\n"
     ]
    }
   ],
   "source": [
    "str = \"Now I need a drink, alcoholic of course, after the heavy lectures involving quantum mechanics.\"\n",
    "\n",
    "new_str = str.replace(',','')\n",
    "words = new_str.split(\" \")\n",
    "ans = [len(w) for w in words]\n",
    "\n",
    "print(ans)"
   ]
  },
  {
   "cell_type": "markdown",
   "id": "022ddf29",
   "metadata": {},
   "source": [
    "## 04. 元素記号　　\n",
    "“Hi He Lied Because Boron Could Not Oxidize Fluorine. New Nations Might Also Sign Peace Security Clause. Arthur King Can.”という文を単語に分解し，1, 5, 6, 7, 8, 9, 15, 16, 19番目の単語は先頭の1文字，それ以外の単語は先頭の2文字を取り出し，取り出した文字列から単語の位置（先頭から何番目の単語か）への連想配列（辞書型もしくはマップ型）を作成せよ．"
   ]
  },
  {
   "cell_type": "code",
   "execution_count": 13,
   "id": "adf1ad0a",
   "metadata": {},
   "outputs": [
    {
     "name": "stdout",
     "output_type": "stream",
     "text": [
      "{'H': 1, 'He': 2, 'Li': 3, 'Be': 4, 'B': 5, 'C': 6, 'N': 7, 'O': 8, 'F': 9, 'Ne': 10, 'Na': 11, 'Mi': 12, 'Al': 13, 'Si': 14, 'P': 15, 'S': 16, 'Cl': 17, 'Ar': 18, 'K': 19, 'Ca': 20}\n"
     ]
    }
   ],
   "source": [
    "str = \"Hi He Lied Because Boron Could Not Oxidize Fluorine. New Nations Might Also Sign Peace Security Clause. Arthur King Can.\"\n",
    "\n",
    "take1st = [1, 5, 6, 7, 8, 9, 15, 16, 19]\n",
    "\n",
    "new_str = str.replace(',','')\n",
    "words = new_str.split(\" \")\n",
    "ans = {}\n",
    "for i, word in enumerate(words):\n",
    "    if i+1 in take1st:\n",
    "        key = word[0]\n",
    "    else:\n",
    "        key = word[:2]\n",
    "    ans[key] = i+1\n",
    "\n",
    "\n",
    "print(ans)"
   ]
  },
  {
   "cell_type": "markdown",
   "id": "9b7e2e25",
   "metadata": {},
   "source": [
    "## 05. n-gram　　\n",
    "与えられたシーケンス（文字列やリストなど）からn-gramを作る関数を作成せよ．この関数を用い，”I am an NLPer”という文から単語bi-gram，文字bi-gramを得よ．"
   ]
  },
  {
   "cell_type": "code",
   "execution_count": 34,
   "id": "99c0d544",
   "metadata": {},
   "outputs": [
    {
     "name": "stdout",
     "output_type": "stream",
     "text": [
      "[['I', 'am'], ['am', 'an'], ['an', 'NLPer']]\n",
      "['I ', ' a', 'am', 'm ', ' a', 'an', 'n ', ' N', 'NL', 'LP', 'Pe', 'er']\n"
     ]
    }
   ],
   "source": [
    "# write your code\n",
    "def make_ngram(seq,n):\n",
    "    \n",
    "    # 0, 1, ..., len(seq)-n+1に対して自身を含めてn個分\n",
    "    ret = []\n",
    "    for i in range(len(seq)-n+1):\n",
    "        ret.append(seq[i:i+n])\n",
    "    return ret\n",
    "\n",
    "str = \"I am an NLPer\"\n",
    "word_bigram = make_ngram(str.replace(',','').replace('.','').split(' '),2)\n",
    "char_bigram = make_ngram(str,2)\n",
    "print(word_bigram)\n",
    "print(char_bigram)"
   ]
  },
  {
   "cell_type": "markdown",
   "id": "3e851931",
   "metadata": {},
   "source": [
    "## 06. 集合  \n",
    "“paraparaparadise”と”paragraph”に含まれる文字bi-gramの集合を，それぞれ, XとYとして求め，XとYの和集合，積集合，差集合を求めよ．さらに，’se’というbi-gramがXおよびYに含まれるかどうかを調べよ．"
   ]
  },
  {
   "cell_type": "code",
   "execution_count": 38,
   "id": "f5b9a86d",
   "metadata": {},
   "outputs": [
    {
     "name": "stdout",
     "output_type": "stream",
     "text": [
      "{'ap', 'ad', 'se', 'is', 'di', 'ph', 'gr', 'ra', 'ag', 'pa', 'ar'}\n",
      "{'ar', 'pa', 'ra', 'ap'}\n",
      "{'se', 'is', 'ad', 'di'}\n",
      "X:True, Y:False\n"
     ]
    }
   ],
   "source": [
    "str1 = \"paraparaparadise\"\n",
    "str2 = \"paragraph\"\n",
    "\n",
    "X = set(make_ngram(str1,2))\n",
    "Y = set(make_ngram(str2,2))\n",
    "\n",
    "SUM = X|Y\n",
    "MUL = X&Y\n",
    "DIF = X-Y\n",
    "\n",
    "print(SUM)\n",
    "print(MUL)\n",
    "print(DIF)\n",
    "print(f\"X:{'se' in X}, Y:{'se' in Y}\",)"
   ]
  },
  {
   "cell_type": "markdown",
   "id": "516f6fb2",
   "metadata": {},
   "source": [
    "## 07. テンプレートによる文生成  \n",
    "引数x, y, zを受け取り「x時のyはz」という文字列を返す関数を実装せよ．さらに，x=12, y=”気温”, z=22.4として，実行結果を確認せよ．"
   ]
  },
  {
   "cell_type": "code",
   "execution_count": 41,
   "id": "93cb9776",
   "metadata": {},
   "outputs": [
    {
     "name": "stdout",
     "output_type": "stream",
     "text": [
      "12時の気温は22.4\n"
     ]
    }
   ],
   "source": [
    "def make_template(x,y,z):\n",
    "    return f\"{x}時の{y}は{z}\"\n",
    "\n",
    "print(make_template(12,'気温', 22.4))"
   ]
  },
  {
   "cell_type": "markdown",
   "id": "a1530a52",
   "metadata": {},
   "source": [
    "## 08. 暗号文  \n",
    "与えられた文字列の各文字を，以下の仕様で変換する関数cipherを実装せよ．\n",
    "\n",
    "- 英小文字ならば(219 - 文字コード)の文字に置換\n",
    "- その他の文字はそのまま出力\n",
    "この関数を用い，英語のメッセージを暗号化・復号化せよ．"
   ]
  },
  {
   "cell_type": "code",
   "execution_count": 55,
   "id": "8e9c0e1b",
   "metadata": {},
   "outputs": [
    {
     "name": "stdout",
     "output_type": "stream",
     "text": [
      "sv11l!\n"
     ]
    }
   ],
   "source": [
    "def cipher(S):\n",
    "    \n",
    "    return \"\".join([chr(219-ord(c)) if c.islower() else c for c in S])\n",
    "\n",
    "print(cipher('he11o!'))"
   ]
  },
  {
   "cell_type": "markdown",
   "id": "ca751231",
   "metadata": {},
   "source": [
    "## 09. Typoglycemia  \n",
    "スペースで区切られた単語列に対して，各単語の先頭と末尾の文字は残し，それ以外の文字の順序をランダムに並び替えるプログラムを作成せよ．  \n",
    "ただし，長さが４以下の単語は並び替えないこととする．適当な英語の文（例えば”I couldn’t believe that I could actually understand what I was reading : the phenomenal power of the human mind .”）を与え，その実行結果を確認せよ．"
   ]
  },
  {
   "cell_type": "code",
   "execution_count": 85,
   "id": "a9c353df",
   "metadata": {},
   "outputs": [
    {
     "name": "stdout",
     "output_type": "stream",
     "text": [
      "I cloun’dt bvielee that I colud alctulay udnsaretnd what I was reanidg : the penoenamhl poewr of the hmaun mind .\n"
     ]
    }
   ],
   "source": [
    "import random\n",
    "\n",
    "def shuffle_words(w):\n",
    "    if len(w)<=4:\n",
    "        return w\n",
    "    st = w[0]\n",
    "    en = w[-1]\n",
    "    mid = list(w[1:-1])\n",
    "    random.shuffle(mid)\n",
    "    return \"\".join([st]+mid+[en])\n",
    "\n",
    "def typoglycemia(S):\n",
    "    words = S.split(' ')\n",
    "    return \" \".join([shuffle_words(word) for word in words])\n",
    "str = \"I couldn’t believe that I could actually understand what I was reading : the phenomenal power of the human mind .\"\n",
    "print(typoglycemia(str))"
   ]
  }
 ],
 "metadata": {
  "kernelspec": {
   "display_name": "Python 3 (ipykernel)",
   "language": "python",
   "name": "python3"
  },
  "language_info": {
   "codemirror_mode": {
    "name": "ipython",
    "version": 3
   },
   "file_extension": ".py",
   "mimetype": "text/x-python",
   "name": "python",
   "nbconvert_exporter": "python",
   "pygments_lexer": "ipython3",
   "version": "3.10.6"
  }
 },
 "nbformat": 4,
 "nbformat_minor": 5
}
